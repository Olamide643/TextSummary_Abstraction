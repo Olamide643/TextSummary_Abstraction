{
 "cells": [
  {
   "cell_type": "code",
   "execution_count": 1,
   "metadata": {},
   "outputs": [],
   "source": [
    "import nltk\n",
    "from nltk.corpus import stopwords\n",
    "from nltk.tokenize import word_tokenize , sent_tokenize \n",
    "import heapq"
   ]
  },
  {
   "cell_type": "code",
   "execution_count": 10,
   "metadata": {},
   "outputs": [],
   "source": [
    "def nltk_summarizer(text):\n",
    "    text = open(text,'r').read()\n",
    "    text = text.lower()\n",
    "    Stopwords = set(stopwords.words('english'))\n",
    "    word_freq = {}\n",
    "    for word in word_tokenize(text):\n",
    "        if word not in Stopwords:\n",
    "            if word not in word_freq.keys():\n",
    "                word_freq[word] = 1 \n",
    "            else:\n",
    "                word_freq[word] +=1\n",
    "    max_freq = max(word_freq.values())\n",
    "    \n",
    "    for word in word_freq:\n",
    "        word_freq[word] = word_freq[word]/max_freq\n",
    "    \n",
    "    sent_list = sent_tokenize(text)\n",
    "    sent_scores ={}\n",
    "    for sent in sent_list:\n",
    "        for word in word_tokenize(sent.lower()):\n",
    "            if word in word_freq.keys():\n",
    "                if len(sent.split(' '))<30:\n",
    "                    if sent not in sent_scores.keys():\n",
    "                        sent_scores[sent] = word_freq[word]\n",
    "                    else:\n",
    "                        sent_scores[sent] += word_freq[word]\n",
    "    summary_sentences = heapq.nlargest(7, sent_scores, key = sent_scores.get)\n",
    "    summary = \" \".join(summary_sentences)\n",
    "    return summary\n",
    "                        \n",
    "    "
   ]
  },
  {
   "cell_type": "code",
   "execution_count": 13,
   "metadata": {},
   "outputs": [
    {
     "data": {
      "text/plain": [
       "\"selah. praise ye the lord. 109:26: help me, o lord my god: o save me according to thy mercy:\\n109:27: that they may know that this is thy hand; that thou, lord, hast done it. 49:1: hear this, all ye people; give ear, all ye inhabitants of the world:\\n49:2: both low and high, rich and poor, together. 92:9: for, lo, thine enemies, o lord, for, lo, thine enemies shall perish; all the workers of iniquity shall be scattered. 115:1: not unto us, o lord, not unto us, but unto thy name give glory, for thy mercy, and for thy truth's sake. 27:14: wait on the lord: be of good courage, and he shall strengthen thine heart: wait, i say, on the lord.\""
      ]
     },
     "execution_count": 13,
     "metadata": {},
     "output_type": "execute_result"
    }
   ],
   "source": [
    "nltk_summarizer('psalms.txt')"
   ]
  },
  {
   "cell_type": "code",
   "execution_count": 1,
   "metadata": {},
   "outputs": [
    {
     "ename": "NameError",
     "evalue": "name 'flask' is not defined",
     "output_type": "error",
     "traceback": [
      "\u001b[1;31m---------------------------------------------------------------------------\u001b[0m",
      "\u001b[1;31mNameError\u001b[0m                                 Traceback (most recent call last)",
      "\u001b[1;32m<ipython-input-1-d996b463faf7>\u001b[0m in \u001b[0;36m<module>\u001b[1;34m\u001b[0m\n\u001b[1;32m----> 1\u001b[1;33m \u001b[0mprint\u001b[0m\u001b[1;33m(\u001b[0m\u001b[0mflask\u001b[0m\u001b[1;33m-\u001b[0m\u001b[0mcors\u001b[0m\u001b[1;33m.\u001b[0m\u001b[0m__version__\u001b[0m\u001b[1;33m)\u001b[0m\u001b[1;33m\u001b[0m\u001b[1;33m\u001b[0m\u001b[0m\n\u001b[0m",
      "\u001b[1;31mNameError\u001b[0m: name 'flask' is not defined"
     ]
    }
   ],
   "source": []
  },
  {
   "cell_type": "code",
   "execution_count": null,
   "metadata": {},
   "outputs": [],
   "source": []
  }
 ],
 "metadata": {
  "kernelspec": {
   "display_name": "Python 3",
   "language": "python",
   "name": "python3"
  },
  "language_info": {
   "codemirror_mode": {
    "name": "ipython",
    "version": 3
   },
   "file_extension": ".py",
   "mimetype": "text/x-python",
   "name": "python",
   "nbconvert_exporter": "python",
   "pygments_lexer": "ipython3",
   "version": "3.7.6"
  }
 },
 "nbformat": 4,
 "nbformat_minor": 4
}
